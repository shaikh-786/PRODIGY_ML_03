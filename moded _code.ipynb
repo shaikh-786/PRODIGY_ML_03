# Step 1: Set up Kaggle credentials for direct download
!mkdir -p ~/.kaggle
from google.colab import files
uploaded = files.upload()  # Upload your kaggle.json here (from your Kaggle account)

!cp kaggle.json ~/.kaggle/
!chmod 600 ~/.kaggle/kaggle.json

# Step 2: Download the dataset
!kaggle datasets download -d tongpython/cat-and-dog
!unzip -q cat-and-dog.zip -d cat_and_dog_data

# Step 3: Import libraries
import os
import cv2
import numpy as np
import matplotlib.pyplot as plt
from sklearn.model_selection import train_test_split
from sklearn.preprocessing import LabelEncoder
from sklearn.svm import SVC
from sklearn.metrics import classification_report, accuracy_score

# Step 4: Prepare the dataset
image_dir = 'cat_and_dog_data/training_set/training_set'
data = []
labels = []

# Resize all images to 64x64 and flatten for SVM
for category in ['cats', 'dogs']:
    folder = os.path.join(image_dir, category)
    for img_name in os.listdir(folder):
        img_path = os.path.join(folder, img_name)
        img = cv2.imread(img_path)

        if img is None:
            print(f"Skipping invalid image: {img_path}")
            continue  # skip bad files

        img = cv2.resize(img, (64, 64))
        img = cv2.cvtColor(img, cv2.COLOR_BGR2GRAY)  # convert to grayscale
        data.append(img.flatten())  # flatten the image
        labels.append(category)


# Step 5: Encode labels
le = LabelEncoder()
labels_encoded = le.fit_transform(labels)  # cats=0, dogs=1

# Step 6: Train/test split
X_train, X_test, y_train, y_test = train_test_split(data, labels_encoded, test_size=0.2, random_state=42)

# Step 7: Train the SVM model
print("Training SVM classifier...")
svm = SVC(kernel='linear')  # or try 'rbf' or 'poly'
svm.fit(X_train, y_train)

# Step 8: Evaluate the model
y_pred = svm.predict(X_test)
print("\nClassification Report:")
print(classification_report(y_test, y_pred, target_names=le.classes_))
print(f"Accuracy: {accuracy_score(y_test, y_pred) * 100:.2f}%")

# Optional: Save model
import joblib
joblib.dump(svm, "dog_cat_svm_model.pkl")
print("✅ Model saved as dog_cat_svm_model.pkl")
